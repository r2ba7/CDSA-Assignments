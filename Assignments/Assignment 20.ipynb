{
 "cells": [
  {
   "cell_type": "code",
   "execution_count": 1,
   "id": "f4d14860",
   "metadata": {},
   "outputs": [],
   "source": [
    "import pandas as pd\n",
    "import numpy as np\n",
    "\n",
    "np.random.seed(42)"
   ]
  },
  {
   "cell_type": "code",
   "execution_count": 2,
   "id": "c1836a62",
   "metadata": {},
   "outputs": [
    {
     "data": {
      "text/html": [
       "<div>\n",
       "<style scoped>\n",
       "    .dataframe tbody tr th:only-of-type {\n",
       "        vertical-align: middle;\n",
       "    }\n",
       "\n",
       "    .dataframe tbody tr th {\n",
       "        vertical-align: top;\n",
       "    }\n",
       "\n",
       "    .dataframe thead th {\n",
       "        text-align: right;\n",
       "    }\n",
       "</style>\n",
       "<table border=\"1\" class=\"dataframe\">\n",
       "  <thead>\n",
       "    <tr style=\"text-align: right;\">\n",
       "      <th></th>\n",
       "      <th>country</th>\n",
       "      <th>child_mort</th>\n",
       "      <th>exports</th>\n",
       "      <th>health</th>\n",
       "      <th>imports</th>\n",
       "      <th>income</th>\n",
       "      <th>inflation</th>\n",
       "      <th>life_expec</th>\n",
       "      <th>total_fer</th>\n",
       "      <th>gdpp</th>\n",
       "    </tr>\n",
       "  </thead>\n",
       "  <tbody>\n",
       "    <tr>\n",
       "      <th>0</th>\n",
       "      <td>Afghanistan</td>\n",
       "      <td>90.2</td>\n",
       "      <td>10.0</td>\n",
       "      <td>7.58</td>\n",
       "      <td>44.9</td>\n",
       "      <td>1610</td>\n",
       "      <td>9.44</td>\n",
       "      <td>56.2</td>\n",
       "      <td>5.82</td>\n",
       "      <td>553</td>\n",
       "    </tr>\n",
       "    <tr>\n",
       "      <th>1</th>\n",
       "      <td>Albania</td>\n",
       "      <td>16.6</td>\n",
       "      <td>28.0</td>\n",
       "      <td>6.55</td>\n",
       "      <td>48.6</td>\n",
       "      <td>9930</td>\n",
       "      <td>4.49</td>\n",
       "      <td>76.3</td>\n",
       "      <td>1.65</td>\n",
       "      <td>4090</td>\n",
       "    </tr>\n",
       "    <tr>\n",
       "      <th>2</th>\n",
       "      <td>Algeria</td>\n",
       "      <td>27.3</td>\n",
       "      <td>38.4</td>\n",
       "      <td>4.17</td>\n",
       "      <td>31.4</td>\n",
       "      <td>12900</td>\n",
       "      <td>16.10</td>\n",
       "      <td>76.5</td>\n",
       "      <td>2.89</td>\n",
       "      <td>4460</td>\n",
       "    </tr>\n",
       "    <tr>\n",
       "      <th>3</th>\n",
       "      <td>Angola</td>\n",
       "      <td>119.0</td>\n",
       "      <td>62.3</td>\n",
       "      <td>2.85</td>\n",
       "      <td>42.9</td>\n",
       "      <td>5900</td>\n",
       "      <td>22.40</td>\n",
       "      <td>60.1</td>\n",
       "      <td>6.16</td>\n",
       "      <td>3530</td>\n",
       "    </tr>\n",
       "    <tr>\n",
       "      <th>4</th>\n",
       "      <td>Antigua and Barbuda</td>\n",
       "      <td>10.3</td>\n",
       "      <td>45.5</td>\n",
       "      <td>6.03</td>\n",
       "      <td>58.9</td>\n",
       "      <td>19100</td>\n",
       "      <td>1.44</td>\n",
       "      <td>76.8</td>\n",
       "      <td>2.13</td>\n",
       "      <td>12200</td>\n",
       "    </tr>\n",
       "  </tbody>\n",
       "</table>\n",
       "</div>"
      ],
      "text/plain": [
       "               country  child_mort  exports  health  imports  income  \\\n",
       "0          Afghanistan        90.2     10.0    7.58     44.9    1610   \n",
       "1              Albania        16.6     28.0    6.55     48.6    9930   \n",
       "2              Algeria        27.3     38.4    4.17     31.4   12900   \n",
       "3               Angola       119.0     62.3    2.85     42.9    5900   \n",
       "4  Antigua and Barbuda        10.3     45.5    6.03     58.9   19100   \n",
       "\n",
       "   inflation  life_expec  total_fer   gdpp  \n",
       "0       9.44        56.2       5.82    553  \n",
       "1       4.49        76.3       1.65   4090  \n",
       "2      16.10        76.5       2.89   4460  \n",
       "3      22.40        60.1       6.16   3530  \n",
       "4       1.44        76.8       2.13  12200  "
      ]
     },
     "execution_count": 2,
     "metadata": {},
     "output_type": "execute_result"
    }
   ],
   "source": [
    "df = pd.read_csv('../Excel/Country-data.csv')\n",
    "df.head()"
   ]
  },
  {
   "cell_type": "code",
   "execution_count": 3,
   "id": "6a90af7e",
   "metadata": {},
   "outputs": [
    {
     "name": "stdout",
     "output_type": "stream",
     "text": [
      "<class 'pandas.core.frame.DataFrame'>\n",
      "RangeIndex: 167 entries, 0 to 166\n",
      "Data columns (total 10 columns):\n",
      " #   Column      Non-Null Count  Dtype  \n",
      "---  ------      --------------  -----  \n",
      " 0   country     167 non-null    object \n",
      " 1   child_mort  167 non-null    float64\n",
      " 2   exports     167 non-null    float64\n",
      " 3   health      167 non-null    float64\n",
      " 4   imports     167 non-null    float64\n",
      " 5   income      167 non-null    int64  \n",
      " 6   inflation   167 non-null    float64\n",
      " 7   life_expec  167 non-null    float64\n",
      " 8   total_fer   167 non-null    float64\n",
      " 9   gdpp        167 non-null    int64  \n",
      "dtypes: float64(7), int64(2), object(1)\n",
      "memory usage: 13.2+ KB\n"
     ]
    }
   ],
   "source": [
    "df.info()"
   ]
  },
  {
   "cell_type": "code",
   "execution_count": 4,
   "id": "6a0ac844",
   "metadata": {},
   "outputs": [],
   "source": [
    "from sklearn.preprocessing import OrdinalEncoder, StandardScaler, OneHotEncoder"
   ]
  },
  {
   "cell_type": "code",
   "execution_count": 6,
   "id": "d3093e25",
   "metadata": {},
   "outputs": [
    {
     "data": {
      "text/plain": [
       "['country']"
      ]
     },
     "execution_count": 6,
     "metadata": {},
     "output_type": "execute_result"
    }
   ],
   "source": [
    "cat_features = [col for col in df.columns if df[col].dtype == 'object']\n",
    "cat_features"
   ]
  },
  {
   "cell_type": "code",
   "execution_count": 7,
   "id": "d9d97c33",
   "metadata": {},
   "outputs": [],
   "source": [
    "OE = OrdinalEncoder(handle_unknown='coerce')\n",
    "\n",
    "X_OE = df.copy()\n",
    "X_OE[cat_features] = OE.fit_transform(X_OE[cat_features])"
   ]
  },
  {
   "cell_type": "code",
   "execution_count": 10,
   "id": "0cfb5675",
   "metadata": {},
   "outputs": [
    {
     "data": {
      "text/html": [
       "<div>\n",
       "<style scoped>\n",
       "    .dataframe tbody tr th:only-of-type {\n",
       "        vertical-align: middle;\n",
       "    }\n",
       "\n",
       "    .dataframe tbody tr th {\n",
       "        vertical-align: top;\n",
       "    }\n",
       "\n",
       "    .dataframe thead th {\n",
       "        text-align: right;\n",
       "    }\n",
       "</style>\n",
       "<table border=\"1\" class=\"dataframe\">\n",
       "  <thead>\n",
       "    <tr style=\"text-align: right;\">\n",
       "      <th></th>\n",
       "      <th>country</th>\n",
       "      <th>child_mort</th>\n",
       "      <th>exports</th>\n",
       "      <th>health</th>\n",
       "      <th>imports</th>\n",
       "      <th>income</th>\n",
       "      <th>inflation</th>\n",
       "      <th>life_expec</th>\n",
       "      <th>total_fer</th>\n",
       "      <th>gdpp</th>\n",
       "    </tr>\n",
       "  </thead>\n",
       "  <tbody>\n",
       "    <tr>\n",
       "      <th>0</th>\n",
       "      <td>0.0</td>\n",
       "      <td>90.2</td>\n",
       "      <td>10.0</td>\n",
       "      <td>7.58</td>\n",
       "      <td>44.9</td>\n",
       "      <td>1610</td>\n",
       "      <td>9.44</td>\n",
       "      <td>56.2</td>\n",
       "      <td>5.82</td>\n",
       "      <td>553</td>\n",
       "    </tr>\n",
       "    <tr>\n",
       "      <th>1</th>\n",
       "      <td>1.0</td>\n",
       "      <td>16.6</td>\n",
       "      <td>28.0</td>\n",
       "      <td>6.55</td>\n",
       "      <td>48.6</td>\n",
       "      <td>9930</td>\n",
       "      <td>4.49</td>\n",
       "      <td>76.3</td>\n",
       "      <td>1.65</td>\n",
       "      <td>4090</td>\n",
       "    </tr>\n",
       "    <tr>\n",
       "      <th>2</th>\n",
       "      <td>2.0</td>\n",
       "      <td>27.3</td>\n",
       "      <td>38.4</td>\n",
       "      <td>4.17</td>\n",
       "      <td>31.4</td>\n",
       "      <td>12900</td>\n",
       "      <td>16.10</td>\n",
       "      <td>76.5</td>\n",
       "      <td>2.89</td>\n",
       "      <td>4460</td>\n",
       "    </tr>\n",
       "    <tr>\n",
       "      <th>3</th>\n",
       "      <td>3.0</td>\n",
       "      <td>119.0</td>\n",
       "      <td>62.3</td>\n",
       "      <td>2.85</td>\n",
       "      <td>42.9</td>\n",
       "      <td>5900</td>\n",
       "      <td>22.40</td>\n",
       "      <td>60.1</td>\n",
       "      <td>6.16</td>\n",
       "      <td>3530</td>\n",
       "    </tr>\n",
       "    <tr>\n",
       "      <th>4</th>\n",
       "      <td>4.0</td>\n",
       "      <td>10.3</td>\n",
       "      <td>45.5</td>\n",
       "      <td>6.03</td>\n",
       "      <td>58.9</td>\n",
       "      <td>19100</td>\n",
       "      <td>1.44</td>\n",
       "      <td>76.8</td>\n",
       "      <td>2.13</td>\n",
       "      <td>12200</td>\n",
       "    </tr>\n",
       "    <tr>\n",
       "      <th>...</th>\n",
       "      <td>...</td>\n",
       "      <td>...</td>\n",
       "      <td>...</td>\n",
       "      <td>...</td>\n",
       "      <td>...</td>\n",
       "      <td>...</td>\n",
       "      <td>...</td>\n",
       "      <td>...</td>\n",
       "      <td>...</td>\n",
       "      <td>...</td>\n",
       "    </tr>\n",
       "    <tr>\n",
       "      <th>162</th>\n",
       "      <td>162.0</td>\n",
       "      <td>29.2</td>\n",
       "      <td>46.6</td>\n",
       "      <td>5.25</td>\n",
       "      <td>52.7</td>\n",
       "      <td>2950</td>\n",
       "      <td>2.62</td>\n",
       "      <td>63.0</td>\n",
       "      <td>3.50</td>\n",
       "      <td>2970</td>\n",
       "    </tr>\n",
       "    <tr>\n",
       "      <th>163</th>\n",
       "      <td>163.0</td>\n",
       "      <td>17.1</td>\n",
       "      <td>28.5</td>\n",
       "      <td>4.91</td>\n",
       "      <td>17.6</td>\n",
       "      <td>16500</td>\n",
       "      <td>45.90</td>\n",
       "      <td>75.4</td>\n",
       "      <td>2.47</td>\n",
       "      <td>13500</td>\n",
       "    </tr>\n",
       "    <tr>\n",
       "      <th>164</th>\n",
       "      <td>164.0</td>\n",
       "      <td>23.3</td>\n",
       "      <td>72.0</td>\n",
       "      <td>6.84</td>\n",
       "      <td>80.2</td>\n",
       "      <td>4490</td>\n",
       "      <td>12.10</td>\n",
       "      <td>73.1</td>\n",
       "      <td>1.95</td>\n",
       "      <td>1310</td>\n",
       "    </tr>\n",
       "    <tr>\n",
       "      <th>165</th>\n",
       "      <td>165.0</td>\n",
       "      <td>56.3</td>\n",
       "      <td>30.0</td>\n",
       "      <td>5.18</td>\n",
       "      <td>34.4</td>\n",
       "      <td>4480</td>\n",
       "      <td>23.60</td>\n",
       "      <td>67.5</td>\n",
       "      <td>4.67</td>\n",
       "      <td>1310</td>\n",
       "    </tr>\n",
       "    <tr>\n",
       "      <th>166</th>\n",
       "      <td>166.0</td>\n",
       "      <td>83.1</td>\n",
       "      <td>37.0</td>\n",
       "      <td>5.89</td>\n",
       "      <td>30.9</td>\n",
       "      <td>3280</td>\n",
       "      <td>14.00</td>\n",
       "      <td>52.0</td>\n",
       "      <td>5.40</td>\n",
       "      <td>1460</td>\n",
       "    </tr>\n",
       "  </tbody>\n",
       "</table>\n",
       "<p>167 rows × 10 columns</p>\n",
       "</div>"
      ],
      "text/plain": [
       "     country  child_mort  exports  health  imports  income  inflation  \\\n",
       "0        0.0        90.2     10.0    7.58     44.9    1610       9.44   \n",
       "1        1.0        16.6     28.0    6.55     48.6    9930       4.49   \n",
       "2        2.0        27.3     38.4    4.17     31.4   12900      16.10   \n",
       "3        3.0       119.0     62.3    2.85     42.9    5900      22.40   \n",
       "4        4.0        10.3     45.5    6.03     58.9   19100       1.44   \n",
       "..       ...         ...      ...     ...      ...     ...        ...   \n",
       "162    162.0        29.2     46.6    5.25     52.7    2950       2.62   \n",
       "163    163.0        17.1     28.5    4.91     17.6   16500      45.90   \n",
       "164    164.0        23.3     72.0    6.84     80.2    4490      12.10   \n",
       "165    165.0        56.3     30.0    5.18     34.4    4480      23.60   \n",
       "166    166.0        83.1     37.0    5.89     30.9    3280      14.00   \n",
       "\n",
       "     life_expec  total_fer   gdpp  \n",
       "0          56.2       5.82    553  \n",
       "1          76.3       1.65   4090  \n",
       "2          76.5       2.89   4460  \n",
       "3          60.1       6.16   3530  \n",
       "4          76.8       2.13  12200  \n",
       "..          ...        ...    ...  \n",
       "162        63.0       3.50   2970  \n",
       "163        75.4       2.47  13500  \n",
       "164        73.1       1.95   1310  \n",
       "165        67.5       4.67   1310  \n",
       "166        52.0       5.40   1460  \n",
       "\n",
       "[167 rows x 10 columns]"
      ]
     },
     "execution_count": 10,
     "metadata": {},
     "output_type": "execute_result"
    }
   ],
   "source": [
    "X_OE"
   ]
  },
  {
   "cell_type": "code",
   "execution_count": 8,
   "id": "d6d68162",
   "metadata": {},
   "outputs": [],
   "source": [
    "# instead of using get_dummies\n",
    "OHE = OneHotEncoder(handle_unknown='error', sparse=False, drop='first')\n",
    "\n",
    "OH_cols_train = pd.DataFrame(OHE.fit_transform(df[cat_features]))\n",
    "OH_cols_train.index = df.index\n",
    "num_X = df.drop(cat_features, axis=1)\n",
    "X_OHE = pd.concat([num_X, OH_cols_train], axis=1)"
   ]
  },
  {
   "cell_type": "code",
   "execution_count": 9,
   "id": "3e2015fc",
   "metadata": {},
   "outputs": [
    {
     "data": {
      "text/html": [
       "<div>\n",
       "<style scoped>\n",
       "    .dataframe tbody tr th:only-of-type {\n",
       "        vertical-align: middle;\n",
       "    }\n",
       "\n",
       "    .dataframe tbody tr th {\n",
       "        vertical-align: top;\n",
       "    }\n",
       "\n",
       "    .dataframe thead th {\n",
       "        text-align: right;\n",
       "    }\n",
       "</style>\n",
       "<table border=\"1\" class=\"dataframe\">\n",
       "  <thead>\n",
       "    <tr style=\"text-align: right;\">\n",
       "      <th></th>\n",
       "      <th>child_mort</th>\n",
       "      <th>exports</th>\n",
       "      <th>health</th>\n",
       "      <th>imports</th>\n",
       "      <th>income</th>\n",
       "      <th>inflation</th>\n",
       "      <th>life_expec</th>\n",
       "      <th>total_fer</th>\n",
       "      <th>gdpp</th>\n",
       "      <th>0</th>\n",
       "      <th>...</th>\n",
       "      <th>156</th>\n",
       "      <th>157</th>\n",
       "      <th>158</th>\n",
       "      <th>159</th>\n",
       "      <th>160</th>\n",
       "      <th>161</th>\n",
       "      <th>162</th>\n",
       "      <th>163</th>\n",
       "      <th>164</th>\n",
       "      <th>165</th>\n",
       "    </tr>\n",
       "  </thead>\n",
       "  <tbody>\n",
       "    <tr>\n",
       "      <th>0</th>\n",
       "      <td>90.2</td>\n",
       "      <td>10.0</td>\n",
       "      <td>7.58</td>\n",
       "      <td>44.9</td>\n",
       "      <td>1610</td>\n",
       "      <td>9.44</td>\n",
       "      <td>56.2</td>\n",
       "      <td>5.82</td>\n",
       "      <td>553</td>\n",
       "      <td>0.0</td>\n",
       "      <td>...</td>\n",
       "      <td>0.0</td>\n",
       "      <td>0.0</td>\n",
       "      <td>0.0</td>\n",
       "      <td>0.0</td>\n",
       "      <td>0.0</td>\n",
       "      <td>0.0</td>\n",
       "      <td>0.0</td>\n",
       "      <td>0.0</td>\n",
       "      <td>0.0</td>\n",
       "      <td>0.0</td>\n",
       "    </tr>\n",
       "    <tr>\n",
       "      <th>1</th>\n",
       "      <td>16.6</td>\n",
       "      <td>28.0</td>\n",
       "      <td>6.55</td>\n",
       "      <td>48.6</td>\n",
       "      <td>9930</td>\n",
       "      <td>4.49</td>\n",
       "      <td>76.3</td>\n",
       "      <td>1.65</td>\n",
       "      <td>4090</td>\n",
       "      <td>1.0</td>\n",
       "      <td>...</td>\n",
       "      <td>0.0</td>\n",
       "      <td>0.0</td>\n",
       "      <td>0.0</td>\n",
       "      <td>0.0</td>\n",
       "      <td>0.0</td>\n",
       "      <td>0.0</td>\n",
       "      <td>0.0</td>\n",
       "      <td>0.0</td>\n",
       "      <td>0.0</td>\n",
       "      <td>0.0</td>\n",
       "    </tr>\n",
       "    <tr>\n",
       "      <th>2</th>\n",
       "      <td>27.3</td>\n",
       "      <td>38.4</td>\n",
       "      <td>4.17</td>\n",
       "      <td>31.4</td>\n",
       "      <td>12900</td>\n",
       "      <td>16.10</td>\n",
       "      <td>76.5</td>\n",
       "      <td>2.89</td>\n",
       "      <td>4460</td>\n",
       "      <td>0.0</td>\n",
       "      <td>...</td>\n",
       "      <td>0.0</td>\n",
       "      <td>0.0</td>\n",
       "      <td>0.0</td>\n",
       "      <td>0.0</td>\n",
       "      <td>0.0</td>\n",
       "      <td>0.0</td>\n",
       "      <td>0.0</td>\n",
       "      <td>0.0</td>\n",
       "      <td>0.0</td>\n",
       "      <td>0.0</td>\n",
       "    </tr>\n",
       "    <tr>\n",
       "      <th>3</th>\n",
       "      <td>119.0</td>\n",
       "      <td>62.3</td>\n",
       "      <td>2.85</td>\n",
       "      <td>42.9</td>\n",
       "      <td>5900</td>\n",
       "      <td>22.40</td>\n",
       "      <td>60.1</td>\n",
       "      <td>6.16</td>\n",
       "      <td>3530</td>\n",
       "      <td>0.0</td>\n",
       "      <td>...</td>\n",
       "      <td>0.0</td>\n",
       "      <td>0.0</td>\n",
       "      <td>0.0</td>\n",
       "      <td>0.0</td>\n",
       "      <td>0.0</td>\n",
       "      <td>0.0</td>\n",
       "      <td>0.0</td>\n",
       "      <td>0.0</td>\n",
       "      <td>0.0</td>\n",
       "      <td>0.0</td>\n",
       "    </tr>\n",
       "    <tr>\n",
       "      <th>4</th>\n",
       "      <td>10.3</td>\n",
       "      <td>45.5</td>\n",
       "      <td>6.03</td>\n",
       "      <td>58.9</td>\n",
       "      <td>19100</td>\n",
       "      <td>1.44</td>\n",
       "      <td>76.8</td>\n",
       "      <td>2.13</td>\n",
       "      <td>12200</td>\n",
       "      <td>0.0</td>\n",
       "      <td>...</td>\n",
       "      <td>0.0</td>\n",
       "      <td>0.0</td>\n",
       "      <td>0.0</td>\n",
       "      <td>0.0</td>\n",
       "      <td>0.0</td>\n",
       "      <td>0.0</td>\n",
       "      <td>0.0</td>\n",
       "      <td>0.0</td>\n",
       "      <td>0.0</td>\n",
       "      <td>0.0</td>\n",
       "    </tr>\n",
       "    <tr>\n",
       "      <th>...</th>\n",
       "      <td>...</td>\n",
       "      <td>...</td>\n",
       "      <td>...</td>\n",
       "      <td>...</td>\n",
       "      <td>...</td>\n",
       "      <td>...</td>\n",
       "      <td>...</td>\n",
       "      <td>...</td>\n",
       "      <td>...</td>\n",
       "      <td>...</td>\n",
       "      <td>...</td>\n",
       "      <td>...</td>\n",
       "      <td>...</td>\n",
       "      <td>...</td>\n",
       "      <td>...</td>\n",
       "      <td>...</td>\n",
       "      <td>...</td>\n",
       "      <td>...</td>\n",
       "      <td>...</td>\n",
       "      <td>...</td>\n",
       "      <td>...</td>\n",
       "    </tr>\n",
       "    <tr>\n",
       "      <th>162</th>\n",
       "      <td>29.2</td>\n",
       "      <td>46.6</td>\n",
       "      <td>5.25</td>\n",
       "      <td>52.7</td>\n",
       "      <td>2950</td>\n",
       "      <td>2.62</td>\n",
       "      <td>63.0</td>\n",
       "      <td>3.50</td>\n",
       "      <td>2970</td>\n",
       "      <td>0.0</td>\n",
       "      <td>...</td>\n",
       "      <td>0.0</td>\n",
       "      <td>0.0</td>\n",
       "      <td>0.0</td>\n",
       "      <td>0.0</td>\n",
       "      <td>0.0</td>\n",
       "      <td>1.0</td>\n",
       "      <td>0.0</td>\n",
       "      <td>0.0</td>\n",
       "      <td>0.0</td>\n",
       "      <td>0.0</td>\n",
       "    </tr>\n",
       "    <tr>\n",
       "      <th>163</th>\n",
       "      <td>17.1</td>\n",
       "      <td>28.5</td>\n",
       "      <td>4.91</td>\n",
       "      <td>17.6</td>\n",
       "      <td>16500</td>\n",
       "      <td>45.90</td>\n",
       "      <td>75.4</td>\n",
       "      <td>2.47</td>\n",
       "      <td>13500</td>\n",
       "      <td>0.0</td>\n",
       "      <td>...</td>\n",
       "      <td>0.0</td>\n",
       "      <td>0.0</td>\n",
       "      <td>0.0</td>\n",
       "      <td>0.0</td>\n",
       "      <td>0.0</td>\n",
       "      <td>0.0</td>\n",
       "      <td>1.0</td>\n",
       "      <td>0.0</td>\n",
       "      <td>0.0</td>\n",
       "      <td>0.0</td>\n",
       "    </tr>\n",
       "    <tr>\n",
       "      <th>164</th>\n",
       "      <td>23.3</td>\n",
       "      <td>72.0</td>\n",
       "      <td>6.84</td>\n",
       "      <td>80.2</td>\n",
       "      <td>4490</td>\n",
       "      <td>12.10</td>\n",
       "      <td>73.1</td>\n",
       "      <td>1.95</td>\n",
       "      <td>1310</td>\n",
       "      <td>0.0</td>\n",
       "      <td>...</td>\n",
       "      <td>0.0</td>\n",
       "      <td>0.0</td>\n",
       "      <td>0.0</td>\n",
       "      <td>0.0</td>\n",
       "      <td>0.0</td>\n",
       "      <td>0.0</td>\n",
       "      <td>0.0</td>\n",
       "      <td>1.0</td>\n",
       "      <td>0.0</td>\n",
       "      <td>0.0</td>\n",
       "    </tr>\n",
       "    <tr>\n",
       "      <th>165</th>\n",
       "      <td>56.3</td>\n",
       "      <td>30.0</td>\n",
       "      <td>5.18</td>\n",
       "      <td>34.4</td>\n",
       "      <td>4480</td>\n",
       "      <td>23.60</td>\n",
       "      <td>67.5</td>\n",
       "      <td>4.67</td>\n",
       "      <td>1310</td>\n",
       "      <td>0.0</td>\n",
       "      <td>...</td>\n",
       "      <td>0.0</td>\n",
       "      <td>0.0</td>\n",
       "      <td>0.0</td>\n",
       "      <td>0.0</td>\n",
       "      <td>0.0</td>\n",
       "      <td>0.0</td>\n",
       "      <td>0.0</td>\n",
       "      <td>0.0</td>\n",
       "      <td>1.0</td>\n",
       "      <td>0.0</td>\n",
       "    </tr>\n",
       "    <tr>\n",
       "      <th>166</th>\n",
       "      <td>83.1</td>\n",
       "      <td>37.0</td>\n",
       "      <td>5.89</td>\n",
       "      <td>30.9</td>\n",
       "      <td>3280</td>\n",
       "      <td>14.00</td>\n",
       "      <td>52.0</td>\n",
       "      <td>5.40</td>\n",
       "      <td>1460</td>\n",
       "      <td>0.0</td>\n",
       "      <td>...</td>\n",
       "      <td>0.0</td>\n",
       "      <td>0.0</td>\n",
       "      <td>0.0</td>\n",
       "      <td>0.0</td>\n",
       "      <td>0.0</td>\n",
       "      <td>0.0</td>\n",
       "      <td>0.0</td>\n",
       "      <td>0.0</td>\n",
       "      <td>0.0</td>\n",
       "      <td>1.0</td>\n",
       "    </tr>\n",
       "  </tbody>\n",
       "</table>\n",
       "<p>167 rows × 175 columns</p>\n",
       "</div>"
      ],
      "text/plain": [
       "     child_mort  exports  health  imports  income  inflation  life_expec  \\\n",
       "0          90.2     10.0    7.58     44.9    1610       9.44        56.2   \n",
       "1          16.6     28.0    6.55     48.6    9930       4.49        76.3   \n",
       "2          27.3     38.4    4.17     31.4   12900      16.10        76.5   \n",
       "3         119.0     62.3    2.85     42.9    5900      22.40        60.1   \n",
       "4          10.3     45.5    6.03     58.9   19100       1.44        76.8   \n",
       "..          ...      ...     ...      ...     ...        ...         ...   \n",
       "162        29.2     46.6    5.25     52.7    2950       2.62        63.0   \n",
       "163        17.1     28.5    4.91     17.6   16500      45.90        75.4   \n",
       "164        23.3     72.0    6.84     80.2    4490      12.10        73.1   \n",
       "165        56.3     30.0    5.18     34.4    4480      23.60        67.5   \n",
       "166        83.1     37.0    5.89     30.9    3280      14.00        52.0   \n",
       "\n",
       "     total_fer   gdpp    0  ...  156  157  158  159  160  161  162  163  164  \\\n",
       "0         5.82    553  0.0  ...  0.0  0.0  0.0  0.0  0.0  0.0  0.0  0.0  0.0   \n",
       "1         1.65   4090  1.0  ...  0.0  0.0  0.0  0.0  0.0  0.0  0.0  0.0  0.0   \n",
       "2         2.89   4460  0.0  ...  0.0  0.0  0.0  0.0  0.0  0.0  0.0  0.0  0.0   \n",
       "3         6.16   3530  0.0  ...  0.0  0.0  0.0  0.0  0.0  0.0  0.0  0.0  0.0   \n",
       "4         2.13  12200  0.0  ...  0.0  0.0  0.0  0.0  0.0  0.0  0.0  0.0  0.0   \n",
       "..         ...    ...  ...  ...  ...  ...  ...  ...  ...  ...  ...  ...  ...   \n",
       "162       3.50   2970  0.0  ...  0.0  0.0  0.0  0.0  0.0  1.0  0.0  0.0  0.0   \n",
       "163       2.47  13500  0.0  ...  0.0  0.0  0.0  0.0  0.0  0.0  1.0  0.0  0.0   \n",
       "164       1.95   1310  0.0  ...  0.0  0.0  0.0  0.0  0.0  0.0  0.0  1.0  0.0   \n",
       "165       4.67   1310  0.0  ...  0.0  0.0  0.0  0.0  0.0  0.0  0.0  0.0  1.0   \n",
       "166       5.40   1460  0.0  ...  0.0  0.0  0.0  0.0  0.0  0.0  0.0  0.0  0.0   \n",
       "\n",
       "     165  \n",
       "0    0.0  \n",
       "1    0.0  \n",
       "2    0.0  \n",
       "3    0.0  \n",
       "4    0.0  \n",
       "..   ...  \n",
       "162  0.0  \n",
       "163  0.0  \n",
       "164  0.0  \n",
       "165  0.0  \n",
       "166  1.0  \n",
       "\n",
       "[167 rows x 175 columns]"
      ]
     },
     "execution_count": 9,
     "metadata": {},
     "output_type": "execute_result"
    }
   ],
   "source": [
    "X_OHE"
   ]
  },
  {
   "cell_type": "code",
   "execution_count": 11,
   "id": "25da1aa3",
   "metadata": {},
   "outputs": [],
   "source": [
    "OE_features = [col for col in X_OE.columns]\n",
    "OHE_features = [col for col in X_OHE.columns]"
   ]
  },
  {
   "cell_type": "code",
   "execution_count": 52,
   "id": "90483b80",
   "metadata": {},
   "outputs": [],
   "source": [
    "OE_SS = StandardScaler()\n",
    "OHE_SS = StandardScaler()\n",
    "\n",
    "X_OE = OE_SS.fit_transform(X_OE)\n",
    "X_OHE = OHE_SS.fit_transform(X_OHE)"
   ]
  },
  {
   "cell_type": "code",
   "execution_count": 53,
   "id": "18829793",
   "metadata": {},
   "outputs": [
    {
     "data": {
      "text/plain": [
       "(167, 175)"
      ]
     },
     "execution_count": 53,
     "metadata": {},
     "output_type": "execute_result"
    }
   ],
   "source": [
    "X_OHE.shape"
   ]
  },
  {
   "cell_type": "markdown",
   "id": "d88c4b2d",
   "metadata": {},
   "source": [
    "### We can use PCA for dimensionality reduction but I guess it won't improve time at all."
   ]
  },
  {
   "cell_type": "markdown",
   "id": "c8ac64c9",
   "metadata": {},
   "source": [
    "### The below for Ordinal Encoder"
   ]
  },
  {
   "cell_type": "code",
   "execution_count": 23,
   "id": "7b56e740",
   "metadata": {},
   "outputs": [],
   "source": [
    "from sklearn.metrics import silhouette_score\n",
    "from sklearn.cluster import KMeans\n",
    "import warnings\n",
    "warnings.filterwarnings('ignore')"
   ]
  },
  {
   "cell_type": "code",
   "execution_count": 24,
   "id": "7c9800fd",
   "metadata": {},
   "outputs": [
    {
     "name": "stdout",
     "output_type": "stream",
     "text": [
      "19.584659099578857\n"
     ]
    }
   ],
   "source": [
    "import time\n",
    "k_range = list(range(5, 150, 5))\n",
    "scores = []\n",
    "kmeans_per_k = []\n",
    "centers = []\n",
    "inertias = []\n",
    "start = time.time()\n",
    "for k in k_range:\n",
    "    kmeans = KMeans(algorithm='full', n_clusters=k, random_state=42)\n",
    "    preds = kmeans.fit_predict(X_OE)\n",
    "    centers = kmeans.cluster_centers_\n",
    "    score = silhouette_score(X_OE, preds)\n",
    "    scores.append(score)\n",
    "    inertias.append(kmeans.inertia_)\n",
    "    kmeans_per_k.append(kmeans)\n",
    "end = time.time()\n",
    "tot_time = end-start\n",
    "print(tot_time)"
   ]
  },
  {
   "cell_type": "code",
   "execution_count": 25,
   "id": "392cee9a",
   "metadata": {},
   "outputs": [
    {
     "data": {
      "text/plain": [
       "[0.20030534986780393,\n",
       " 0.2021085226818553,\n",
       " 0.17139222243851118,\n",
       " 0.17385377089276624,\n",
       " 0.1721344746111209,\n",
       " 0.1763386647344105,\n",
       " 0.1596245111037286,\n",
       " 0.166294234653467,\n",
       " 0.15775346491594536,\n",
       " 0.15379234259656832,\n",
       " 0.15303495580366167,\n",
       " 0.16458847192597048,\n",
       " 0.13728004423571846,\n",
       " 0.1418314589996795,\n",
       " 0.13125045558654924,\n",
       " 0.1274417967007054,\n",
       " 0.13403281205201284,\n",
       " 0.13831950915657348,\n",
       " 0.12902103778664925,\n",
       " 0.1362293278352807,\n",
       " 0.12508693516936498,\n",
       " 0.11206539566723275,\n",
       " 0.0967964116934718,\n",
       " 0.1034061881433042,\n",
       " 0.09194313471093837,\n",
       " 0.08551728335316583,\n",
       " 0.0804574499390062,\n",
       " 0.06381373436747384,\n",
       " 0.054323114173155905]"
      ]
     },
     "execution_count": 25,
     "metadata": {},
     "output_type": "execute_result"
    }
   ],
   "source": [
    "scores"
   ]
  },
  {
   "cell_type": "code",
   "execution_count": 26,
   "id": "218df5bd",
   "metadata": {},
   "outputs": [
    {
     "data": {
      "text/plain": [
       "1"
      ]
     },
     "execution_count": 26,
     "metadata": {},
     "output_type": "execute_result"
    }
   ],
   "source": [
    "np.argmax(scores)"
   ]
  },
  {
   "cell_type": "code",
   "execution_count": 29,
   "id": "a6e51c0e",
   "metadata": {},
   "outputs": [
    {
     "name": "stdout",
     "output_type": "stream",
     "text": [
      "9.160505294799805\n"
     ]
    }
   ],
   "source": [
    "#Repeated it because I noticed that 10 and fewer has the best scores\n",
    "k_range = list(range(2, 20))\n",
    "scores = []\n",
    "kmeans_per_k = []\n",
    "centers = []\n",
    "inertias = []\n",
    "start = time.time()\n",
    "for k in k_range:\n",
    "    kmeans = KMeans(algorithm='full', n_clusters=k, random_state=42)\n",
    "    preds = kmeans.fit_predict(X_OE)\n",
    "    centers = kmeans.cluster_centers_\n",
    "    score = silhouette_score(X_OE, preds)\n",
    "    scores.append(score)\n",
    "    inertias.append(kmeans.inertia_)\n",
    "    kmeans_per_k.append(kmeans)\n",
    "end = time.time()\n",
    "tot_time = end-start\n",
    "print(tot_time)"
   ]
  },
  {
   "cell_type": "code",
   "execution_count": 30,
   "id": "27905991",
   "metadata": {},
   "outputs": [
    {
     "data": {
      "text/plain": [
       "[0.25223697128320827,\n",
       " 0.24043690533753967,\n",
       " 0.25313157179353923,\n",
       " 0.20030534986780393,\n",
       " 0.2071639198149279,\n",
       " 0.19542020383401235,\n",
       " 0.20815961301657612,\n",
       " 0.21315626283105807,\n",
       " 0.2021085226818553,\n",
       " 0.1961650147464015,\n",
       " 0.19520627001798038,\n",
       " 0.20770093502895276,\n",
       " 0.1873866050705496,\n",
       " 0.17139222243851118,\n",
       " 0.17691123772054582,\n",
       " 0.18539781029914165,\n",
       " 0.16790368550658355,\n",
       " 0.17494879137801603]"
      ]
     },
     "execution_count": 30,
     "metadata": {},
     "output_type": "execute_result"
    }
   ],
   "source": [
    "scores"
   ]
  },
  {
   "cell_type": "code",
   "execution_count": 33,
   "id": "d0b7e25f",
   "metadata": {},
   "outputs": [],
   "source": [
    "best_index = np.argmax(scores)\n",
    "best_k = k_range[best_index]\n",
    "best_score = scores[best_index]\n",
    "best_model = kmeans_per_k[best_index]"
   ]
  },
  {
   "cell_type": "code",
   "execution_count": 61,
   "id": "046975b4",
   "metadata": {},
   "outputs": [
    {
     "data": {
      "text/plain": [
       "2"
      ]
     },
     "execution_count": 61,
     "metadata": {},
     "output_type": "execute_result"
    }
   ],
   "source": [
    "best_index"
   ]
  },
  {
   "cell_type": "code",
   "execution_count": 35,
   "id": "6d099dd0",
   "metadata": {},
   "outputs": [
    {
     "data": {
      "text/plain": [
       "0.25313157179353923"
      ]
     },
     "execution_count": 35,
     "metadata": {},
     "output_type": "execute_result"
    }
   ],
   "source": [
    "best_score"
   ]
  },
  {
   "cell_type": "code",
   "execution_count": 44,
   "id": "e6dd1007",
   "metadata": {},
   "outputs": [
    {
     "data": {
      "text/plain": [
       "4"
      ]
     },
     "execution_count": 44,
     "metadata": {},
     "output_type": "execute_result"
    }
   ],
   "source": [
    "best_k"
   ]
  },
  {
   "cell_type": "code",
   "execution_count": 36,
   "id": "647631b5",
   "metadata": {},
   "outputs": [],
   "source": [
    "import matplotlib.pyplot as plt\n",
    "%matplotlib inline"
   ]
  },
  {
   "cell_type": "code",
   "execution_count": 42,
   "id": "1407ab95",
   "metadata": {},
   "outputs": [
    {
     "data": {
      "image/png": "[encoded data removed]",
      "text/plain": [
       "<Figure size 432x288 with 1 Axes>"
      ]
     },
     "metadata": {
      "needs_background": "light"
     },
     "output_type": "display_data"
    }
   ],
   "source": [
    "plt.plot(k_range, scores)\n",
    "plt.plot(k_range[best_index], scores[best_index], 'rs')\n",
    "plt.xlabel('Range of K')\n",
    "plt.ylabel('Scores')\n",
    "plt.show()"
   ]
  },
  {
   "cell_type": "code",
   "execution_count": 64,
   "id": "e418ed1f",
   "metadata": {},
   "outputs": [
    {
     "data": {
      "text/plain": [
       "KMeans(algorithm='full', n_clusters=3, random_state=42)"
      ]
     },
     "execution_count": 64,
     "metadata": {},
     "output_type": "execute_result"
    }
   ],
   "source": [
    "kmeans_per_k[best_index-1]"
   ]
  },
  {
   "cell_type": "code",
   "execution_count": 65,
   "id": "6d2d3697",
   "metadata": {},
   "outputs": [],
   "source": [
    "#Although best model is when k = 4, but I chose 3 since the difference is not that big\n",
    "km = kmeans_per_k[best_index-1]\n",
    "clust_labels = km.fit_predict(X_OE)\n",
    "centers = km.cluster_centers_\n",
    "score = silhouette_score(X_OE, preds)\n",
    "kmeans = pd.DataFrame(clust_labels)"
   ]
  },
  {
   "cell_type": "code",
   "execution_count": 66,
   "id": "68b8ac9e",
   "metadata": {},
   "outputs": [
    {
     "data": {
      "text/plain": [
       "<matplotlib.colorbar.Colorbar at 0x234c01ce880>"
      ]
     },
     "execution_count": 66,
     "metadata": {},
     "output_type": "execute_result"
    },
    {
     "data": {
      "image/png": "[encoded data removed]",
      "text/plain": [
       "<Figure size 432x288 with 2 Axes>"
      ]
     },
     "metadata": {
      "needs_background": "light"
     },
     "output_type": "display_data"
    }
   ],
   "source": [
    "fig = plt.figure()\n",
    "ax = fig.add_subplot(111)\n",
    "scatter = ax.scatter(X_OE[:,0], X_OE[:,1],\n",
    "                     c=kmeans[0], s=50)\n",
    "plt.plot\n",
    "\n",
    "plt.colorbar(scatter)"
   ]
  },
  {
   "cell_type": "markdown",
   "id": "d5f83f03",
   "metadata": {},
   "source": [
    "### For One Hot Encoder"
   ]
  },
  {
   "cell_type": "code",
   "execution_count": 71,
   "id": "10f6ce57",
   "metadata": {},
   "outputs": [
    {
     "name": "stdout",
     "output_type": "stream",
     "text": [
      "9.787101745605469\n"
     ]
    }
   ],
   "source": [
    "k_range = list(range(2,20))\n",
    "scores = []\n",
    "kmeans_per_k = []\n",
    "centers = []\n",
    "inertias = []\n",
    "start = time.time()\n",
    "for k in k_range:\n",
    "    kmeans = KMeans(algorithm='full', n_clusters=k, random_state=42)\n",
    "    preds = kmeans.fit_predict(X_OHE)\n",
    "    centers = kmeans.cluster_centers_\n",
    "    score = silhouette_score(X_OHE, preds)\n",
    "    scores.append(score)\n",
    "    inertias.append(kmeans.inertia_)\n",
    "    kmeans_per_k.append(kmeans)\n",
    "end = time.time()\n",
    "tot_time = end-start\n",
    "print(tot_time)"
   ]
  },
  {
   "cell_type": "code",
   "execution_count": 72,
   "id": "7ecea15b",
   "metadata": {},
   "outputs": [
    {
     "data": {
      "text/plain": [
       "[0.01441454344353715,\n",
       " 0.0109587190472114,\n",
       " 0.011085129162454594,\n",
       " 0.006148187788519044,\n",
       " 0.005909675192366414,\n",
       " 0.00625375698718138,\n",
       " 0.0043480738028357285,\n",
       " 0.003324881582845815,\n",
       " 0.0021374382034810295,\n",
       " 0.003874910303753034,\n",
       " 0.002379564956779001,\n",
       " 0.002609092887829937,\n",
       " 0.0028484079878457196,\n",
       " 0.002370198386741392,\n",
       " -0.00010353220860132625,\n",
       " -0.0024763385550079817,\n",
       " 0.0007091284095942242,\n",
       " 0.002540459853156001]"
      ]
     },
     "execution_count": 72,
     "metadata": {},
     "output_type": "execute_result"
    }
   ],
   "source": [
    "scores"
   ]
  },
  {
   "cell_type": "code",
   "execution_count": 73,
   "id": "672984b7",
   "metadata": {},
   "outputs": [],
   "source": [
    "#Lets try PCA\n",
    "\n",
    "from sklearn.decomposition import PCA"
   ]
  },
  {
   "cell_type": "code",
   "execution_count": 88,
   "id": "2a5e76be",
   "metadata": {},
   "outputs": [
    {
     "data": {
      "text/plain": [
       "(167, 175)"
      ]
     },
     "execution_count": 88,
     "metadata": {},
     "output_type": "execute_result"
    }
   ],
   "source": [
    "pca = PCA(0.75)\n",
    "X_OHE.shape"
   ]
  },
  {
   "cell_type": "code",
   "execution_count": 89,
   "id": "602e4073",
   "metadata": {},
   "outputs": [
    {
     "data": {
      "text/plain": [
       "(167, 122)"
      ]
     },
     "execution_count": 89,
     "metadata": {},
     "output_type": "execute_result"
    }
   ],
   "source": [
    "X_OHE_PCA = pca.fit_transform(X_OHE)\n",
    "X_OHE_PCA.shape"
   ]
  },
  {
   "cell_type": "code",
   "execution_count": 92,
   "id": "c5a8ced7",
   "metadata": {},
   "outputs": [
    {
     "name": "stdout",
     "output_type": "stream",
     "text": [
      "10.074920654296875\n"
     ]
    }
   ],
   "source": [
    "k_range = list(range(2,20))\n",
    "scores = []\n",
    "kmeans_per_k = []\n",
    "centers = []\n",
    "inertias = []\n",
    "start = time.time()\n",
    "for k in k_range:\n",
    "    kmeans = KMeans(algorithm='full', n_clusters=k, random_state=42)\n",
    "    preds = kmeans.fit_predict(X_OHE_PCA)\n",
    "    centers = kmeans.cluster_centers_\n",
    "    score = silhouette_score(X_OHE_PCA, preds)\n",
    "    scores.append(score)\n",
    "    inertias.append(kmeans.inertia_)\n",
    "    kmeans_per_k.append(kmeans)\n",
    "end = time.time()\n",
    "tot_time = end-start\n",
    "print(tot_time)"
   ]
  },
  {
   "cell_type": "code",
   "execution_count": 93,
   "id": "07ae35d3",
   "metadata": {},
   "outputs": [
    {
     "data": {
      "text/plain": [
       "[0.021034510384875665,\n",
       " 0.022134722326606824,\n",
       " 0.010326542352689717,\n",
       " 0.013934765057376527,\n",
       " 0.013491999747066432,\n",
       " 0.01377880588587369,\n",
       " -0.018962301518554787,\n",
       " -0.0060594286933479255,\n",
       " -0.008329098924931052,\n",
       " 0.00013145694258130512,\n",
       " -0.014225618370327047,\n",
       " -0.020143678191499752,\n",
       " -0.02656247102468648,\n",
       " -0.02282442928551224,\n",
       " -0.009969039641000505,\n",
       " -0.015562666545266422,\n",
       " -0.025768854432628545,\n",
       " -0.020945507643156537]"
      ]
     },
     "execution_count": 93,
     "metadata": {},
     "output_type": "execute_result"
    }
   ],
   "source": [
    "scores"
   ]
  },
  {
   "cell_type": "markdown",
   "id": "13e3b165",
   "metadata": {},
   "source": [
    "### The lower the PCA's n_components the better the score but it's not worth it unlike the Ordinal Encoder\n",
    "#### Chose Ordinal Encoder since countries are ordered by alphabets, so since they are already ordered, why not use ordinal encoder"
   ]
  },
  {
   "cell_type": "code",
   "execution_count": null,
   "id": "8b1c2a7d",
   "metadata": {},
   "outputs": [],
   "source": []
  }
 ],
 "metadata": {
  "kernelspec": {
   "display_name": "Python 3",
   "language": "python",
   "name": "python3"
  },
  "language_info": {
   "codemirror_mode": {
    "name": "ipython",
    "version": 3
   },
   "file_extension": ".py",
   "mimetype": "text/x-python",
   "name": "python",
   "nbconvert_exporter": "python",
   "pygments_lexer": "ipython3",
   "version": "3.8.8"
  }
 },
 "nbformat": 4,
 "nbformat_minor": 5
}
