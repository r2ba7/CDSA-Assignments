{
 "cells": [
  {
   "cell_type": "code",
   "execution_count": null,
   "metadata": {
    "scrolled": true
   },
   "outputs": [],
   "source": [
    "import Thanos\n",
    "\n",
    "dest = \"H:/Epsilon AI/Session 5/Thanos Project/universe/\"\n",
    "\n",
    "source = 'H:/Epsilon AI/Session 5/Thanos Project/backup/'\n",
    "\n",
    "flag = True\n",
    "while(flag):\n",
    "    copying = input(\"Do you want to copy images ? 'Y' for yes, otherwise is no.\")\n",
    "    if copying == 'Y' or copying == \"y\":\n",
    "        Thanos.copy(source,dest)\n",
    "        y = Thanos.halfpop(dest)\n",
    "        print(f\"Displaying half the population : {y}\")\n",
    "    \n",
    "    imagenames = input(\"Do you want to display images' names ? 'Y' for yes, otherwise is no.\")\n",
    "    if imagenames == 'Y' or imagenames == \"y\":\n",
    "        x = Thanos.retimages(dest)\n",
    "        print(x)\n",
    "        \n",
    "    halfpopulation = input(\"Do you want to know half of the images number ? 'Y' for yes, otherwise is no.\")\n",
    "    if halfpopulation == 'Y' or halfpopulation == \"y\":\n",
    "        y = Thanos.halfpop(dest)\n",
    "        print(f\"{y} directory image number*0.5 \")\n",
    "        \n",
    "    killing = input(\"are you sure you want to snap ? 'Y' for yes, otherwise is no.\")\n",
    "    if killing == 'Y' or killing == \"y\":\n",
    "        Thanos.kill(dest)\n",
    "        \n",
    "    exit = input(\"Do you want to exit ?, 'Y' for yes, 'N' for no.\")\n",
    "    if exit == 'Y' or exit == \"y\":\n",
    "        flag = False\n",
    "    elif exit == 'N' or exit == \"n\":\n",
    "        flag = True\n",
    "    else:\n",
    "        print(\"Then it's a continue.\")\n",
    "print(\"The End.\")"
   ]
  },
  {
   "cell_type": "code",
   "execution_count": null,
   "metadata": {},
   "outputs": [],
   "source": []
  },
  {
   "cell_type": "code",
   "execution_count": null,
   "metadata": {},
   "outputs": [],
   "source": []
  }
 ],
 "metadata": {
  "kernelspec": {
   "display_name": "Python 3",
   "language": "python",
   "name": "python3"
  },
  "language_info": {
   "codemirror_mode": {
    "name": "ipython",
    "version": 3
   },
   "file_extension": ".py",
   "mimetype": "text/x-python",
   "name": "python",
   "nbconvert_exporter": "python",
   "pygments_lexer": "ipython3",
   "version": "3.7.6"
  }
 },
 "nbformat": 4,
 "nbformat_minor": 4
}
