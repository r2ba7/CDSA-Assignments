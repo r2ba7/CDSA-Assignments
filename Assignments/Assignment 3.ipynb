{
 "cells": [
  {
   "cell_type": "markdown",
   "metadata": {
    "collapsed": true
   },
   "source": [
    "# Statements Assessment Test\n",
    "Let's test your knowledge!"
   ]
  },
  {
   "cell_type": "markdown",
   "metadata": {},
   "source": [
    "**Use <code>for</code>, .split(), and <code>if</code> to create a Statement that will print out words that start with 's':**"
   ]
  },
  {
   "cell_type": "code",
   "execution_count": 40,
   "metadata": {},
   "outputs": [],
   "source": [
    "st = 'Print only the words that start with s in this sentence'"
   ]
  },
  {
   "cell_type": "code",
   "execution_count": 41,
   "metadata": {},
   "outputs": [
    {
     "name": "stdout",
     "output_type": "stream",
     "text": [
      "start\n",
      "s\n",
      "sentence\n"
     ]
    }
   ],
   "source": [
    "#3 solutions\n",
    "x = st.split()\n",
    "for words in x:\n",
    "    #if words.startswith('s'):\n",
    "        #print(words)\n",
    "    if words[0] == 's':\n",
    "        print(words) \n",
    "    #for letters in words:\n",
    "        #if words[0] == 's' and letters == 's':\n",
    "            #print(words)"
   ]
  },
  {
   "cell_type": "markdown",
   "metadata": {},
   "source": [
    "______\n",
    "**Use range() to print all the even numbers from 0 to 10.**"
   ]
  },
  {
   "cell_type": "code",
   "execution_count": 42,
   "metadata": {},
   "outputs": [
    {
     "name": "stdout",
     "output_type": "stream",
     "text": [
      "[0, 1, 2, 3, 4, 5, 6, 7, 8, 9, 10]\n",
      "0\n",
      "2\n",
      "4\n",
      "6\n",
      "8\n",
      "10\n"
     ]
    }
   ],
   "source": [
    "lists = list(range(11))\n",
    "print(lists)\n",
    "for number in lists:\n",
    "    if number%2 == 0:\n",
    "        print(number)\n",
    "    else:\n",
    "        continue"
   ]
  },
  {
   "cell_type": "markdown",
   "metadata": {},
   "source": [
    "___\n",
    "**Use a List Comprehension to create a list of all numbers between 1 and 50 that are divisible by 3.**"
   ]
  },
  {
   "cell_type": "code",
   "execution_count": 43,
   "metadata": {},
   "outputs": [
    {
     "name": "stdout",
     "output_type": "stream",
     "text": [
      "[3, 6, 9, 12, 15, 18, 21, 24, 27, 30, 33, 36, 39, 42, 45, 48]\n"
     ]
    }
   ],
   "source": [
    "#Code in this cell\n",
    "new_list = [i for i in range(1,51) if i%3==0]\n",
    "print(new_list)"
   ]
  },
  {
   "cell_type": "markdown",
   "metadata": {},
   "source": [
    "_____\n",
    "**Go through the string below and if the length of a word is even print \"even!\"**"
   ]
  },
  {
   "cell_type": "code",
   "execution_count": 45,
   "metadata": {},
   "outputs": [],
   "source": [
    "st = 'Print every word in this sentence that has an even number of letters'"
   ]
  },
  {
   "cell_type": "code",
   "execution_count": 46,
   "metadata": {},
   "outputs": [
    {
     "name": "stdout",
     "output_type": "stream",
     "text": [
      "word\n",
      "in\n",
      "this\n",
      "sentence\n",
      "that\n",
      "an\n",
      "even\n",
      "number\n",
      "of\n"
     ]
    }
   ],
   "source": [
    "x = st.split()\n",
    "for words in x:\n",
    "    if len(words)%2 == 0:\n",
    "        print(words)"
   ]
  },
  {
   "cell_type": "markdown",
   "metadata": {},
   "source": [
    "____\n",
    "**Write a program that prints the integers from 1 to 100. But for multiples of three print \"Fizz\" instead of the number, and for the multiples of five print \"Buzz\". For numbers which are multiples of both three and five print \"FizzBuzz\".**"
   ]
  },
  {
   "cell_type": "code",
   "execution_count": 47,
   "metadata": {},
   "outputs": [
    {
     "name": "stdout",
     "output_type": "stream",
     "text": [
      "Index is: 3, Fizz\n",
      "Index is: 5, Buzz\n",
      "Index is: 6, Fizz\n",
      "Index is: 9, Fizz\n",
      "Index is: 10, Buzz\n",
      "Index is: 12, Fizz\n",
      "Index is: 15, FizzBuzz\n",
      "Index is: 18, Fizz\n",
      "Index is: 20, Buzz\n",
      "Index is: 21, Fizz\n",
      "Index is: 24, Fizz\n",
      "Index is: 25, Buzz\n",
      "Index is: 27, Fizz\n",
      "Index is: 30, FizzBuzz\n",
      "Index is: 33, Fizz\n",
      "Index is: 35, Buzz\n",
      "Index is: 36, Fizz\n",
      "Index is: 39, Fizz\n",
      "Index is: 40, Buzz\n",
      "Index is: 42, Fizz\n",
      "Index is: 45, FizzBuzz\n",
      "Index is: 48, Fizz\n",
      "Index is: 50, Buzz\n",
      "Index is: 51, Fizz\n",
      "Index is: 54, Fizz\n",
      "Index is: 55, Buzz\n",
      "Index is: 57, Fizz\n",
      "Index is: 60, FizzBuzz\n",
      "Index is: 63, Fizz\n",
      "Index is: 65, Buzz\n",
      "Index is: 66, Fizz\n",
      "Index is: 69, Fizz\n",
      "Index is: 70, Buzz\n",
      "Index is: 72, Fizz\n",
      "Index is: 75, FizzBuzz\n",
      "Index is: 78, Fizz\n",
      "Index is: 80, Buzz\n",
      "Index is: 81, Fizz\n",
      "Index is: 84, Fizz\n",
      "Index is: 85, Buzz\n",
      "Index is: 87, Fizz\n",
      "Index is: 90, FizzBuzz\n",
      "Index is: 93, Fizz\n",
      "Index is: 95, Buzz\n",
      "Index is: 96, Fizz\n",
      "Index is: 99, Fizz\n",
      "Index is: 100, Buzz\n"
     ]
    }
   ],
   "source": [
    "x = list(range(1,101))\n",
    "#print(x)\n",
    "for numbers in x:\n",
    "    if numbers%3 == 0 and numbers%5 == 0:\n",
    "        print(f'Index is: {numbers}, FizzBuzz')\n",
    "        continue\n",
    "    elif numbers%3 == 0:\n",
    "        print(f'Index is: {numbers}, Fizz')\n",
    "        continue\n",
    "    elif numbers%5 == 0:\n",
    "        print(f'Index is: {numbers}, Buzz')\n",
    "        continue"
   ]
  },
  {
   "cell_type": "markdown",
   "metadata": {},
   "source": [
    "____\n",
    "**Use List Comprehension to create a list of the first letters of every word in the string below:**"
   ]
  },
  {
   "cell_type": "code",
   "execution_count": 48,
   "metadata": {},
   "outputs": [],
   "source": [
    "st = 'Create a list of the first letters of every word in this string'"
   ]
  },
  {
   "cell_type": "code",
   "execution_count": 49,
   "metadata": {},
   "outputs": [
    {
     "name": "stdout",
     "output_type": "stream",
     "text": [
      "['C', 'a', 'l', 'o', 't', 'f', 'l', 'o', 'e', 'w', 'i', 't', 's']\n"
     ]
    }
   ],
   "source": [
    "#Code in this cell\n",
    "new_list = st.split()\n",
    "newlist = [letter[0] for letter in new_list ]\n",
    "print(newlist)"
   ]
  },
  {
   "cell_type": "markdown",
   "metadata": {},
   "source": [
    "### Great Job!"
   ]
  }
 ],
 "metadata": {
  "kernelspec": {
   "display_name": "Python 3",
   "language": "python",
   "name": "python3"
  },
  "language_info": {
   "codemirror_mode": {
    "name": "ipython",
    "version": 3
   },
   "file_extension": ".py",
   "mimetype": "text/x-python",
   "name": "python",
   "nbconvert_exporter": "python",
   "pygments_lexer": "ipython3",
   "version": "3.7.6"
  }
 },
 "nbformat": 4,
 "nbformat_minor": 1
}
