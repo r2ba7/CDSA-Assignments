{
 "cells": [
  {
   "cell_type": "code",
   "execution_count": 14,
   "metadata": {},
   "outputs": [
    {
     "name": "stdout",
     "output_type": "stream",
     "text": [
      "Bomber's Co-ordinates are (80, 0)\n",
      "Fighter's Co-ordinates are (0, 50)\n",
      "Distance at time 0 is 94.33981132056604\n",
      "Bomber's Co-ordinates are (90, -2)\n",
      "Fighter's Co-ordinates are (16.959966080101758, 39.400021199936404)\n",
      "Distance at time 1 is 83.95718141037769\n",
      "Bomber's Co-ordinates are (94, -5)\n",
      "Fighter's Co-ordinates are (34.359319582188235, 29.5378460996134)\n",
      "Distance at time 2 is 68.91932656301958\n",
      "Bomber's Co-ordinates are (108, -9)\n",
      "Fighter's Co-ordinates are (51.666708784047756, 19.51515788659608)\n",
      "Distance at time 3 is 63.13916319146767\n",
      "Bomber's Co-ordinates are (116, -15)\n",
      "Fighter's Co-ordinates are (69.51087660905462, 10.482679011282292)\n",
      "Distance at time 4 is 53.015144282087846\n",
      "Bomber's Co-ordinates are (125, -18)\n",
      "Fighter's Co-ordinates are (87.04893069548011, 0.8693206562840619)\n",
      "Distance at time 5 is 42.383191519588756\n",
      "Bomber's Co-ordinates are (133, -23)\n",
      "Fighter's Co-ordinates are (104.95747790197332, -8.034832136250685)\n",
      "Distance at time 6 is 31.78583481377373\n",
      "Bomber's Co-ordinates are (141, -29)\n",
      "Fighter's Co-ordinates are (122.60214400076966, -17.45108182824523)\n",
      "Distance at time 7 is 21.72230688270248\n",
      "Bomber's Co-ordinates are (151, -28)\n",
      "Fighter's Co-ordinates are (139.54128043648643, -28.084315429185835)\n",
      "Distance at time 8 is 11.459029763764791\n",
      "Bomber's Co-ordinates are (160, -25)\n",
      "Fighter's Co-ordinates are (159.54073902895436, -27.937155624343625)\n",
      "Distance at time 9 is 2.972844395715855\n",
      "The Fighter caught the Bomber\n"
     ]
    }
   ],
   "source": [
    "import math as m\n",
    "\n",
    "Vf = 20\n",
    "Xfi = 0 #Fight initial position\n",
    "Yfi = 50\n",
    "DMinreq = 10\n",
    "Tfinal = 12\n",
    "Xb = [80, 90, 94, 108, 116, 125, 133, 141, 151, 160, 169, 176, 180]\n",
    "Yb = [0, -2, -5, -9, -15, -18, -23, -29, -28, -25, -21, -20,- 17]\n",
    "t = 0\n",
    "Flag = False\n",
    "for t in range (Tfinal+1):\n",
    "    print(f\"Bomber's Co-ordinates are {Xb[t], Yb[t]}\")\n",
    "    print(f\"Fighter's Co-ordinates are {Xfi, Yfi}\")\n",
    "    Distance = m.sqrt(pow((Yb[t]-Yfi),2)+pow((Xb[t]-Xfi),2))\n",
    "    print(f\"Distance at time {t} is {Distance}\")\n",
    "    if Distance <= DMinreq:\n",
    "        Flag = True\n",
    "        break\n",
    "    sinthetta = (Yb[t]-Yfi)/Distance\n",
    "    cosethetta = (Xb[t]-Xfi)/Distance\n",
    "    Xf = Xfi + Vf*cosethetta\n",
    "    Yf = Yfi + Vf*sinthetta\n",
    "    Xfi = Xf\n",
    "    Yfi = Yf\n",
    "\n",
    "if Flag:\n",
    "    print(\"The Fighter caught the Bomber\")\n",
    "else:\n",
    "    print(\"The Bomber has escaped, we are Doomed\")"
   ]
  },
  {
   "cell_type": "code",
   "execution_count": null,
   "metadata": {},
   "outputs": [],
   "source": []
  }
 ],
 "metadata": {
  "kernelspec": {
   "display_name": "Python 3",
   "language": "python",
   "name": "python3"
  },
  "language_info": {
   "codemirror_mode": {
    "name": "ipython",
    "version": 3
   },
   "file_extension": ".py",
   "mimetype": "text/x-python",
   "name": "python",
   "nbconvert_exporter": "python",
   "pygments_lexer": "ipython3",
   "version": "3.7.6"
  }
 },
 "nbformat": 4,
 "nbformat_minor": 4
}
