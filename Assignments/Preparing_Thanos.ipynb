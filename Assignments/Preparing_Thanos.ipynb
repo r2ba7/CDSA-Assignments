{
 "cells": [
  {
   "cell_type": "code",
   "execution_count": null,
   "metadata": {},
   "outputs": [],
   "source": [
    "import os\n",
    "import random\n",
    "\n",
    "def retimages(path):\n",
    "    print(\"Input shouldn't be between 2 double quotation, it's better to replace each '/' with '\\' because of some error\")\n",
    "    return os.listdir(path)\n",
    "\n",
    "\n",
    "def halfpop(path):\n",
    "    list = retimages(path)\n",
    "    return 0.5*len(list)\n",
    "\n",
    "def kill(path):\n",
    "    x = halfpop(path)\n",
    "    print(x);\n",
    "    for i in range(0,int(x)):\n",
    "        random_item_from_list = random.choice(my_list)          \n",
    "        os.remove(path + f\"{random_item_from_list}\")\n",
    "        my_list.remove(random_item_from_list)\n",
    "        print(f\"done kill {random_item_from_list}\")"
   ]
  }
 ],
 "metadata": {
  "kernelspec": {
   "display_name": "Python 3",
   "language": "python",
   "name": "python3"
  },
  "language_info": {
   "codemirror_mode": {
    "name": "ipython",
    "version": 3
   },
   "file_extension": ".py",
   "mimetype": "text/x-python",
   "name": "python",
   "nbconvert_exporter": "python",
   "pygments_lexer": "ipython3",
   "version": "3.7.6"
  }
 },
 "nbformat": 4,
 "nbformat_minor": 4
}
