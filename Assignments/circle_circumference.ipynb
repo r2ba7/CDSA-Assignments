{
 "cells": [
  {
   "cell_type": "code",
   "execution_count": 10,
   "metadata": {},
   "outputs": [
    {
     "name": "stdout",
     "output_type": "stream",
     "text": [
      "Please pick what method to use to calculate the circle circumference ? either 'r' or 'd'd\n",
      "Please enter diameter: 6\n",
      "circle_circumference is:  18.84955592153876\n"
     ]
    }
   ],
   "source": [
    "import numpy as np\n",
    "x = input(\"Please pick what method to use to calculate the circle circumference ? either 'r' or 'd'\")\n",
    "if x == 'r' or x == 'R':\n",
    "    r = int(input(\"Please enter radius:\"))\n",
    "    circle_circumference  = 2 * np.pi * r\n",
    "    print(\"circle_circumference is: \", circle_circumference)\n",
    "elif x == 'd' or x == 'D':\n",
    "    d = int(input(\"Please enter diameter:\"))\n",
    "    circle_circumference  = np.pi * d\n",
    "    print(\"circle_circumference is:\", circle_circumference)\n",
    "else:\n",
    "    print(\"wrong format\")"
   ]
  },
  {
   "cell_type": "code",
   "execution_count": null,
   "metadata": {},
   "outputs": [],
   "source": []
  }
 ],
 "metadata": {
  "kernelspec": {
   "display_name": "Python 3",
   "language": "python",
   "name": "python3"
  },
  "language_info": {
   "codemirror_mode": {
    "name": "ipython",
    "version": 3
   },
   "file_extension": ".py",
   "mimetype": "text/x-python",
   "name": "python",
   "nbconvert_exporter": "python",
   "pygments_lexer": "ipython3",
   "version": "3.7.6"
  }
 },
 "nbformat": 4,
 "nbformat_minor": 4
}
